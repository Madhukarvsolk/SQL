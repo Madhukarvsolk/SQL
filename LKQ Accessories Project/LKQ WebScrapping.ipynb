{
 "cells": [
  {
   "cell_type": "code",
   "execution_count": 1,
   "id": "90cf6175",
   "metadata": {},
   "outputs": [
    {
     "name": "stdout",
     "output_type": "stream",
     "text": [
      "Collecting autoscraper\n",
      "  Downloading autoscraper-1.1.14-py3-none-any.whl (10 kB)\n",
      "Requirement already satisfied: lxml in c:\\users\\madhukar v\\anaconda3\\lib\\site-packages (from autoscraper) (4.8.0)\n",
      "Requirement already satisfied: requests in c:\\users\\madhukar v\\anaconda3\\lib\\site-packages (from autoscraper) (2.27.1)\n",
      "Collecting bs4\n",
      "  Downloading bs4-0.0.1.tar.gz (1.1 kB)\n",
      "Requirement already satisfied: beautifulsoup4 in c:\\users\\madhukar v\\anaconda3\\lib\\site-packages (from bs4->autoscraper) (4.11.1)\n",
      "Requirement already satisfied: soupsieve>1.2 in c:\\users\\madhukar v\\anaconda3\\lib\\site-packages (from beautifulsoup4->bs4->autoscraper) (2.3.1)\n",
      "Requirement already satisfied: charset-normalizer~=2.0.0 in c:\\users\\madhukar v\\anaconda3\\lib\\site-packages (from requests->autoscraper) (2.0.4)\n",
      "Requirement already satisfied: urllib3<1.27,>=1.21.1 in c:\\users\\madhukar v\\anaconda3\\lib\\site-packages (from requests->autoscraper) (1.26.9)\n",
      "Requirement already satisfied: idna<4,>=2.5 in c:\\users\\madhukar v\\anaconda3\\lib\\site-packages (from requests->autoscraper) (3.3)\n",
      "Requirement already satisfied: certifi>=2017.4.17 in c:\\users\\madhukar v\\anaconda3\\lib\\site-packages (from requests->autoscraper) (2021.10.8)\n",
      "Building wheels for collected packages: bs4\n",
      "  Building wheel for bs4 (setup.py): started\n",
      "  Building wheel for bs4 (setup.py): finished with status 'done'\n",
      "  Created wheel for bs4: filename=bs4-0.0.1-py3-none-any.whl size=1272 sha256=9b0c7ac828701d856974c9f72a666f2442088efa2b2fe9c1080aa28f94d33454\n",
      "  Stored in directory: c:\\users\\madhukar v\\appdata\\local\\pip\\cache\\wheels\\73\\2b\\cb\\099980278a0c9a3e57ff1a89875ec07bfa0b6fcbebb9a8cad3\n",
      "Successfully built bs4\n",
      "Installing collected packages: bs4, autoscraper\n",
      "Successfully installed autoscraper-1.1.14 bs4-0.0.1\n"
     ]
    }
   ],
   "source": [
    "!pip install autoscraper"
   ]
  },
  {
   "cell_type": "code",
   "execution_count": 2,
   "id": "82319231",
   "metadata": {},
   "outputs": [],
   "source": [
    "from autoscraper import AutoScraper"
   ]
  },
  {
   "cell_type": "code",
   "execution_count": 3,
   "id": "291dbb4b",
   "metadata": {},
   "outputs": [],
   "source": [
    "lkq_url= \"https://www.eurocarparts.com/car-battery\"\n",
    "\n",
    "wanted_list=[\"Lion 012 Car Battery - 3 Year Guarantee\" , \"£62.99\"]"
   ]
  },
  {
   "cell_type": "code",
   "execution_count": 4,
   "id": "84d0287c",
   "metadata": {},
   "outputs": [
    {
     "name": "stdout",
     "output_type": "stream",
     "text": [
      "['Lion 063 Car Battery - 3 Year Guarantee', 'Lion 100 Car Battery - (70Ah) 3 Year Guarantee', 'Lion 075 Car Battery - 3 Year Guarantee', 'Lion 027 Car Battery - 3 Year Guarantee', 'Exide Excel Car Battery 100 (71Ah) - 3 Year Guarantee - W096SE', 'Exide Excel 063 Car Battery - 3 Year Guarantee', 'Lion 096 Car Battery - 3 Year Guarantee', 'Bosch S4 Car Battery 075 4 Year Guarantee', 'Lion 012 Car Battery - 3 Year Guarantee', 'Exide Excel 027 Car Battery - 3 Year Guarantee', 'Exide Excel 075 Car Battery - 3 Year Guarantee', 'Lion 110 Car Battery - 3 Year Guarantee', 'Bosch S4 Car Battery 063 4 Year Guarantee', 'Bosch S4 Car Battery 019 4 Year Guarantee', 'Bosch S4 Car Battery 110 (80Ah) 4 Year Guarantee', 'Bosch S4 Car Battery 100 (72Ah) 4 Year Guarantee', 'Lion 019 Car Battery - 3 Year Guarantee', 'Exide Excel Car Battery 110 (80Ah) - 3 Year Guarantee', 'Exide Excel 096 Car Battery - 3 Year Guarantee', 'Exide Excel 012 Car Battery - 3 Year Guarantee', '£45.49', '£77.99', '£58.99', '£57.99', '£105.99', '£62.99', '£66.99', '£84.99', '£79.99', '£80.99', '£90.99', '£65.99', '£147.99', '£131.99', '£111.99', '£102.99', '£124.99', '£86.99']\n"
     ]
    }
   ],
   "source": [
    "scraper=AutoScraper()\n",
    "result=scraper.build(lkq_url,wanted_list)\n",
    "print(result)"
   ]
  },
  {
   "cell_type": "code",
   "execution_count": 5,
   "id": "24735681",
   "metadata": {},
   "outputs": [
    {
     "data": {
      "text/plain": [
       "{'rule_v5at': ['Lion 063 Car Battery - 3 Year Guarantee',\n",
       "  'Lion 100 Car Battery - (70Ah) 3 Year Guarantee',\n",
       "  'Lion 075 Car Battery - 3 Year Guarantee',\n",
       "  'Lion 027 Car Battery - 3 Year Guarantee',\n",
       "  'Exide Excel Car Battery 100 (71Ah) - 3 Year Guarantee - W096SE',\n",
       "  'Exide Excel 063 Car Battery - 3 Year Guarantee',\n",
       "  'Lion 096 Car Battery - 3 Year Guarantee',\n",
       "  'Bosch S4 Car Battery 075 4 Year Guarantee',\n",
       "  'Lion 012 Car Battery - 3 Year Guarantee',\n",
       "  'Exide Excel 027 Car Battery - 3 Year Guarantee',\n",
       "  'Exide Excel 075 Car Battery - 3 Year Guarantee',\n",
       "  'Lion 110 Car Battery - 3 Year Guarantee',\n",
       "  'Bosch S4 Car Battery 063 4 Year Guarantee',\n",
       "  'Bosch S4 Car Battery 019 4 Year Guarantee',\n",
       "  'Bosch S4 Car Battery 110 (80Ah) 4 Year Guarantee',\n",
       "  'Bosch S4 Car Battery 100 (72Ah) 4 Year Guarantee',\n",
       "  'Lion 019 Car Battery - 3 Year Guarantee',\n",
       "  'Exide Excel Car Battery 110 (80Ah) - 3 Year Guarantee',\n",
       "  'Exide Excel 096 Car Battery - 3 Year Guarantee',\n",
       "  'Exide Excel 012 Car Battery - 3 Year Guarantee'],\n",
       " 'rule_6k7z': ['Lion 063 Car Battery - 3 Year Guarantee',\n",
       "  'Lion 100 Car Battery - (70Ah) 3 Year Guarantee',\n",
       "  'Lion 075 Car Battery - 3 Year Guarantee',\n",
       "  'Lion 027 Car Battery - 3 Year Guarantee',\n",
       "  'Exide Excel Car Battery 100 (71Ah) - 3 Year Guarantee - W096SE',\n",
       "  'Exide Excel 063 Car Battery - 3 Year Guarantee',\n",
       "  'Lion 096 Car Battery - 3 Year Guarantee',\n",
       "  'Bosch S4 Car Battery 075 4 Year Guarantee',\n",
       "  'Lion 012 Car Battery - 3 Year Guarantee',\n",
       "  'Exide Excel 027 Car Battery - 3 Year Guarantee',\n",
       "  'Exide Excel 075 Car Battery - 3 Year Guarantee',\n",
       "  'Lion 110 Car Battery - 3 Year Guarantee',\n",
       "  'Bosch S4 Car Battery 063 4 Year Guarantee',\n",
       "  'Bosch S4 Car Battery 019 4 Year Guarantee',\n",
       "  'Bosch S4 Car Battery 110 (80Ah) 4 Year Guarantee',\n",
       "  'Bosch S4 Car Battery 100 (72Ah) 4 Year Guarantee',\n",
       "  'Lion 019 Car Battery - 3 Year Guarantee',\n",
       "  'Exide Excel Car Battery 110 (80Ah) - 3 Year Guarantee',\n",
       "  'Exide Excel 096 Car Battery - 3 Year Guarantee',\n",
       "  'Exide Excel 012 Car Battery - 3 Year Guarantee'],\n",
       " 'rule_q633': ['Lion 063 Car Battery - 3 Year Guarantee',\n",
       "  'Lion 100 Car Battery - (70Ah) 3 Year Guarantee',\n",
       "  'Lion 075 Car Battery - 3 Year Guarantee',\n",
       "  'Lion 027 Car Battery - 3 Year Guarantee',\n",
       "  'Exide Excel Car Battery 100 (71Ah) - 3 Year Guarantee - W096SE',\n",
       "  'Exide Excel 063 Car Battery - 3 Year Guarantee',\n",
       "  'Lion 096 Car Battery - 3 Year Guarantee',\n",
       "  'Bosch S4 Car Battery 075 4 Year Guarantee',\n",
       "  'Lion 012 Car Battery - 3 Year Guarantee',\n",
       "  'Exide Excel 027 Car Battery - 3 Year Guarantee',\n",
       "  'Exide Excel 075 Car Battery - 3 Year Guarantee',\n",
       "  'Lion 110 Car Battery - 3 Year Guarantee',\n",
       "  'Bosch S4 Car Battery 063 4 Year Guarantee',\n",
       "  'Bosch S4 Car Battery 019 4 Year Guarantee',\n",
       "  'Bosch S4 Car Battery 110 (80Ah) 4 Year Guarantee',\n",
       "  'Bosch S4 Car Battery 100 (72Ah) 4 Year Guarantee',\n",
       "  'Lion 019 Car Battery - 3 Year Guarantee',\n",
       "  'Exide Excel Car Battery 110 (80Ah) - 3 Year Guarantee',\n",
       "  'Exide Excel 096 Car Battery - 3 Year Guarantee',\n",
       "  'Exide Excel 012 Car Battery - 3 Year Guarantee'],\n",
       " 'rule_gvcf': ['Lion 063 Car Battery - 3 Year Guarantee',\n",
       "  'Lion 100 Car Battery - (70Ah) 3 Year Guarantee',\n",
       "  'Lion 075 Car Battery - 3 Year Guarantee',\n",
       "  'Lion 027 Car Battery - 3 Year Guarantee',\n",
       "  'Exide Excel Car Battery 100 (71Ah) - 3 Year Guarantee - W096SE',\n",
       "  'Exide Excel 063 Car Battery - 3 Year Guarantee',\n",
       "  'Lion 096 Car Battery - 3 Year Guarantee',\n",
       "  'Bosch S4 Car Battery 075 4 Year Guarantee',\n",
       "  'Lion 012 Car Battery - 3 Year Guarantee',\n",
       "  'Exide Excel 027 Car Battery - 3 Year Guarantee',\n",
       "  'Exide Excel 075 Car Battery - 3 Year Guarantee',\n",
       "  'Lion 110 Car Battery - 3 Year Guarantee',\n",
       "  'Bosch S4 Car Battery 063 4 Year Guarantee',\n",
       "  'Bosch S4 Car Battery 019 4 Year Guarantee',\n",
       "  'Bosch S4 Car Battery 110 (80Ah) 4 Year Guarantee',\n",
       "  'Bosch S4 Car Battery 100 (72Ah) 4 Year Guarantee',\n",
       "  'Lion 019 Car Battery - 3 Year Guarantee',\n",
       "  'Exide Excel Car Battery 110 (80Ah) - 3 Year Guarantee',\n",
       "  'Exide Excel 096 Car Battery - 3 Year Guarantee',\n",
       "  'Exide Excel 012 Car Battery - 3 Year Guarantee'],\n",
       " 'rule_vm35': ['Lion 063 Car Battery - 3 Year Guarantee',\n",
       "  'Lion 100 Car Battery - (70Ah) 3 Year Guarantee',\n",
       "  'Lion 075 Car Battery - 3 Year Guarantee',\n",
       "  'Lion 027 Car Battery - 3 Year Guarantee',\n",
       "  'Exide Excel Car Battery 100 (71Ah) - 3 Year Guarantee - W096SE',\n",
       "  'Exide Excel 063 Car Battery - 3 Year Guarantee',\n",
       "  'Lion 096 Car Battery - 3 Year Guarantee',\n",
       "  'Bosch S4 Car Battery 075 4 Year Guarantee',\n",
       "  'Lion 012 Car Battery - 3 Year Guarantee',\n",
       "  'Exide Excel 027 Car Battery - 3 Year Guarantee',\n",
       "  'Exide Excel 075 Car Battery - 3 Year Guarantee',\n",
       "  'Lion 110 Car Battery - 3 Year Guarantee',\n",
       "  'Bosch S4 Car Battery 063 4 Year Guarantee',\n",
       "  'Bosch S4 Car Battery 019 4 Year Guarantee',\n",
       "  'Bosch S4 Car Battery 110 (80Ah) 4 Year Guarantee',\n",
       "  'Bosch S4 Car Battery 100 (72Ah) 4 Year Guarantee',\n",
       "  'Lion 019 Car Battery - 3 Year Guarantee',\n",
       "  'Exide Excel Car Battery 110 (80Ah) - 3 Year Guarantee',\n",
       "  'Exide Excel 096 Car Battery - 3 Year Guarantee',\n",
       "  'Exide Excel 012 Car Battery - 3 Year Guarantee'],\n",
       " 'rule_hllj': ['£45.49',\n",
       "  '£77.99',\n",
       "  '£58.99',\n",
       "  '£57.99',\n",
       "  '£105.99',\n",
       "  '£62.99',\n",
       "  '£66.99',\n",
       "  '£84.99',\n",
       "  '£62.99',\n",
       "  '£79.99',\n",
       "  '£80.99',\n",
       "  '£90.99',\n",
       "  '£65.99',\n",
       "  '£147.99',\n",
       "  '£131.99',\n",
       "  '£111.99',\n",
       "  '£102.99',\n",
       "  '£124.99',\n",
       "  '£90.99',\n",
       "  '£86.99'],\n",
       " 'rule_bxfd': ['£45.49',\n",
       "  '£77.99',\n",
       "  '£58.99',\n",
       "  '£57.99',\n",
       "  '£105.99',\n",
       "  '£62.99',\n",
       "  '£66.99',\n",
       "  '£84.99',\n",
       "  '£62.99',\n",
       "  '£79.99',\n",
       "  '£80.99',\n",
       "  '£90.99',\n",
       "  '£65.99',\n",
       "  '£147.99',\n",
       "  '£131.99',\n",
       "  '£111.99',\n",
       "  '£102.99',\n",
       "  '£124.99',\n",
       "  '£90.99',\n",
       "  '£86.99']}"
      ]
     },
     "execution_count": 5,
     "metadata": {},
     "output_type": "execute_result"
    }
   ],
   "source": [
    "scraper.get_result_similar(lkq_url,grouped=True)"
   ]
  },
  {
   "cell_type": "code",
   "execution_count": 7,
   "id": "8fb5fd36",
   "metadata": {},
   "outputs": [],
   "source": [
    "scraper.set_rule_aliases({'rule_v5at':'Title','rule_hllj':'Price'})\n",
    "scraper.keep_rules(['rule_v5at','rule_hllj'])\n",
    "scraper.save('lkq_battries_swift')"
   ]
  },
  {
   "cell_type": "code",
   "execution_count": 8,
   "id": "5537e65a",
   "metadata": {},
   "outputs": [],
   "source": [
    "results=scraper.get_result_similar('https://www.eurocarparts.com/car-battery',group_by_alias=True)"
   ]
  },
  {
   "cell_type": "code",
   "execution_count": 9,
   "id": "79f64156",
   "metadata": {},
   "outputs": [
    {
     "data": {
      "text/plain": [
       "['£45.49',\n",
       " '£77.99',\n",
       " '£58.99',\n",
       " '£57.99',\n",
       " '£105.99',\n",
       " '£62.99',\n",
       " '£66.99',\n",
       " '£84.99',\n",
       " '£62.99',\n",
       " '£79.99',\n",
       " '£80.99',\n",
       " '£90.99',\n",
       " '£65.99',\n",
       " '£147.99',\n",
       " '£131.99',\n",
       " '£111.99',\n",
       " '£102.99',\n",
       " '£124.99',\n",
       " '£90.99',\n",
       " '£86.99']"
      ]
     },
     "execution_count": 9,
     "metadata": {},
     "output_type": "execute_result"
    }
   ],
   "source": [
    "results['Price']"
   ]
  },
  {
   "cell_type": "code",
   "execution_count": null,
   "id": "76faf7b7",
   "metadata": {},
   "outputs": [],
   "source": []
  },
  {
   "cell_type": "code",
   "execution_count": null,
   "id": "f004cea7",
   "metadata": {},
   "outputs": [],
   "source": []
  },
  {
   "cell_type": "code",
   "execution_count": null,
   "id": "e56bc2ea",
   "metadata": {},
   "outputs": [],
   "source": []
  },
  {
   "cell_type": "code",
   "execution_count": null,
   "id": "a9dafdad",
   "metadata": {},
   "outputs": [],
   "source": []
  },
  {
   "cell_type": "code",
   "execution_count": null,
   "id": "ff5e3232",
   "metadata": {},
   "outputs": [],
   "source": []
  }
 ],
 "metadata": {
  "kernelspec": {
   "display_name": "Python 3 (ipykernel)",
   "language": "python",
   "name": "python3"
  },
  "language_info": {
   "codemirror_mode": {
    "name": "ipython",
    "version": 3
   },
   "file_extension": ".py",
   "mimetype": "text/x-python",
   "name": "python",
   "nbconvert_exporter": "python",
   "pygments_lexer": "ipython3",
   "version": "3.9.12"
  }
 },
 "nbformat": 4,
 "nbformat_minor": 5
}
